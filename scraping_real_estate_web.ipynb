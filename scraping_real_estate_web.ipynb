{
 "cells": [
  {
   "cell_type": "code",
   "execution_count": 89,
   "metadata": {},
   "outputs": [],
   "source": [
    "import requests\n",
    "import pandas\n",
    "from bs4 import BeautifulSoup\n",
    "\n",
    "r = requests.get(\"http://www.pyclass.com/real-estate/rock-springs-wy/LCWYROCKSPRINGS/\", headers={'User-agent': 'Mozilla/5.0 (X11; Ubuntu; Linux x86_64; rv:61.0) Gecko/20100101 Firefox/61.0'})\n",
    "c= r.content\n",
    "soup = BeautifulSoup(c, \"html.parser\")\n",
    "all = soup.find_all(\"div\", {\"class\": \"propertyRow\"})\n",
    "\n",
    "page_nr = soup.find_all(\"a\", {\"class\": \"Page\"})[-1].text\n",
    "l = []\n",
    "for page in range(0, int(page_nr)*10, 10):\n",
    "#     print(base_url+str(page)+ \".html\")\n",
    "    r = requests.get(base_url+str(page)+ \".html\", headers={'User-agent': 'Mozilla/5.0 (X11; Ubuntu; Linux x86_64; rv:61.0) Gecko/20100101 Firefox/61.0'})\n",
    "    c= r.content\n",
    "    soup = BeautifulSoup(c, \"html.parser\")\n",
    "    all = soup.find_all(\"div\", {\"class\": \"propertyRow\"})\n",
    "\n",
    "\n",
    "    for item in all:\n",
    "        #creating a dictionary for each property\n",
    "        d = {}\n",
    "        try:\n",
    "            d[\"Locality\"] = item.find_all(\"span\", {\"class\", \"propAddressCollapse\"})[1].text\n",
    "        except:\n",
    "            d[\"Locality\"] = None\n",
    "        d[\"Address\"] = item.find_all(\"span\", {\"class\", \"propAddressCollapse\"})[0].text\n",
    "        d[\"Price\"] = item.find(\"h4\").text.replace(\"\\n\", \"\").replace(\" \", \"\")\n",
    "\n",
    "        #number of bedrooms\n",
    "        try:\n",
    "            d[\"Bed\"] = item.find(\"span\", {\"class\",\"infoBed\"}).find(\"b\").text # extract only the number of the bedrooms\n",
    "        except:\n",
    "            d[\"Bed\"] = None\n",
    "        #number of areas\n",
    "        try:\n",
    "            d[\"Area\"] = item.find(\"span\", {\"class\",\"infoSqFt\"}).find(\"b\").text # extract only the number of the bedrooms\n",
    "        except:\n",
    "            d[\"Area\"] = None\n",
    "        #number of baths\n",
    "        try:\n",
    "            d[\"Bath\"] = item.find(\"span\", {\"class\",\"infoValuefullBath\"}).find(\"b\").text # extract only the number of the bedrooms\n",
    "        except:\n",
    "             d[\"Bath\"] = None\n",
    "\n",
    "        #number of halfbath\n",
    "        try:\n",
    "            d[\"Half Bath\"] = item.find(\"span\", {\"class\",\"infoValueHalfBath\"}).find(\"b\").text # extract only the number of the bedrooms\n",
    "        except:\n",
    "            d[\"Half Bath\"] = None\n",
    "        for column_group in item.find_all(\"div\", {\"class\": \"columnGroup\"}):\n",
    "\n",
    "            for feature_group, feature_name in zip(column_group.find_all('span', {\"class\":\"featureGroup\"}),\n",
    "                                                  column_group.find_all(\"span\", {\"class\":\"featureName\"})):\n",
    "    #            print(feature_group.text, feature_name.text)\n",
    "                if \"Lot Size\" in feature_group.text:\n",
    "                    d[\"Lot Size\"] = feature_name.text            \n",
    "        l.append(d)                                               \n",
    "df = pandas.DataFrame(l)\n",
    "df.to_csv(\"Output.csv\")\n"
   ]
  },
  {
   "cell_type": "code",
   "execution_count": 70,
   "metadata": {},
   "outputs": [],
   "source": [
    "\n",
    "\n",
    "\n"
   ]
  }
 ],
 "metadata": {
  "kernelspec": {
   "display_name": "Python 3",
   "language": "python",
   "name": "python3"
  },
  "language_info": {
   "codemirror_mode": {
    "name": "ipython",
    "version": 3
   },
   "file_extension": ".py",
   "mimetype": "text/x-python",
   "name": "python",
   "nbconvert_exporter": "python",
   "pygments_lexer": "ipython3",
   "version": "3.8.5"
  }
 },
 "nbformat": 4,
 "nbformat_minor": 5
}
