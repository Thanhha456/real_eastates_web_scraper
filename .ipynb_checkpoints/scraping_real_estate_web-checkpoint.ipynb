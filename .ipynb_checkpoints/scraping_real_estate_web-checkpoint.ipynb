{
 "cells": [
  {
   "cell_type": "code",
   "execution_count": 1,
   "id": "absent-simple",
   "metadata": {},
   "outputs": [],
   "source": [
    "import requests\n",
    "from bs4 import BeautifulSoup\n",
    "url = \n",
    "r = requests.get(\"url\")\n",
    "c= r.content\n",
    "\n",
    "soup =BeautifulSoup(c, \"html.parser\")\n",
    "# soup.prettify()\n",
    "\n",
    "all =soup.find_all(\"div\", {\"class\": \"propertyRow\"})\n",
    "len(all)\n",
    "all[0].find_all(\"h4\",{\"class\":\"proPrice\"})[0].text.replace(\"\\n\", \"\").replace(\" \", \"\")\n",
    "\n",
    " "
   ]
  },
  {
   "cell_type": "code",
   "execution_count": null,
   "id": "electrical-jacket",
   "metadata": {},
   "outputs": [],
   "source": [
    "for item in all:\n",
    "    print(item.find(\"h4\", {\"class\", \"proPrice\"})[0]text.replace(\"\\n\", \"\").replace(\" \", \"\"))\n",
    "    print(item.find_all(\"span\", {\"class\", \"propAddressCollapse\"})[0].text)\n",
    "    print(item.find_all(\"span\", {\"class\", \"propAddressCollapse\"})[1].text)\n",
    "    #number of bedrooms\n",
    "    try:\n",
    "        print(item.find(\"span\", {\"class\",\"infoBed\"}).find(\"b\").text) # extract only the number of the bedrooms\n",
    "    except:\n",
    "        print(None)\n",
    "    #number of areas\n",
    "    try:\n",
    "        print(item.find(\"span\", {\"class\",\"infoSqFt\"}).find(\"b\").text) # extract only the number of the bedrooms\n",
    "    except:\n",
    "        print(None)\n",
    "    #number of baths\n",
    "    try:\n",
    "        print(item.find(\"span\", {\"class\",\"infoValuefullBath\"}).find(\"b\").text) # extract only the number of the bedrooms\n",
    "    except:\n",
    "  \n",
    "    #number of halfbath\n",
    "    try:\n",
    "        print(item.find(\"span\", {\"class\",\"infoValueHalfBath\"}).find(\"b\").text) # extract only the number of the bedrooms\n",
    "    except:\n",
    "        print(None)\n",
    "    for column_group in item.find_all(\"div\", {\"class\": \"columnGroup\"}):\n",
    "        print(column_group)\n",
    "        for feature_group, feature_name in zip(column_group.find_all('span', {\"class\":\"featureGroup\"}),\n",
    "                                              column_group.find_all(\"span\", {\"class\":\"featureName\"})):\n",
    "#            print(feature_group.text, feature_name.text)\n",
    "            if \"Lot Size\" in feature_group.text:\n",
    "                print(feature_name.text)            \n",
    "                                               \n",
    "    print(\" \")"
   ]
  }
 ],
 "metadata": {
  "kernelspec": {
   "display_name": "Python 3",
   "language": "python",
   "name": "python3"
  },
  "language_info": {
   "codemirror_mode": {
    "name": "ipython",
    "version": 3
   },
   "file_extension": ".py",
   "mimetype": "text/x-python",
   "name": "python",
   "nbconvert_exporter": "python",
   "pygments_lexer": "ipython3",
   "version": "3.6.12"
  }
 },
 "nbformat": 4,
 "nbformat_minor": 5
}
